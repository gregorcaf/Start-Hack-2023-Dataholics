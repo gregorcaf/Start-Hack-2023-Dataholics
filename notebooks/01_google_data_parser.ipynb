{
 "cells": [
  {
   "cell_type": "markdown",
   "id": "49d5f7dc",
   "metadata": {},
   "source": [
    "## Google data preparation"
   ]
  },
  {
   "cell_type": "code",
   "execution_count": 1,
   "id": "b79c3d9b",
   "metadata": {},
   "outputs": [
    {
     "name": "stdout",
     "output_type": "stream",
     "text": [
      "C:\\Users\\Zan\\Desktop\\start_23\\dataholics\\notebooks\n",
      "C:\\Users\\Zan\\Desktop\\start_23\\dataholics\n"
     ]
    }
   ],
   "source": [
    "%reload_ext autoreload\n",
    "%autoreload 2\n",
    "\n",
    "import pandas as pd \n",
    "import os\n",
    "import json\n",
    "from datetime import datetime\n",
    "from dateutil import parser\n",
    "\n",
    "\n",
    "try:\n",
    "    print(run_only_once)\n",
    "except Exception as e:\n",
    "    print(os.getcwd())\n",
    "    os.chdir(\"./../\")\n",
    "    print(os.getcwd())\n",
    "    run_only_once = \"Dir has already been changed\""
   ]
  },
  {
   "cell_type": "markdown",
   "id": "f4ba45c2",
   "metadata": {},
   "source": [
    "## Data format description\n",
    "One trip data should look approximately like this:\n",
    "\n",
    "`\n",
    "{'start_time': '2023-02-01T05:52:30.326Z',\n",
    " 'end_time': '2023-02-01T05:55:57.768Z',\n",
    " 'activity_type': 'WALKING',\n",
    " 'duration': 207.442,\n",
    " 'start_location': [481080467, 116006127],\n",
    " 'end_location': [481071768, 115985278],\n",
    " 'distance': 182,\n",
    " 'waypoints_list': [{'latitudeE7': 481079750, 'longitudeE7': 116005859},\n",
    "  {'latitudeE7': 481075172, 'longitudeE7': 115995626},\n",
    "  {'latitudeE7': 481072921, 'longitudeE7': 115984754}]}\n",
    "`"
   ]
  },
  {
   "cell_type": "code",
   "execution_count": 2,
   "id": "72307154",
   "metadata": {},
   "outputs": [],
   "source": [
    "# main key - timelineObjects\n",
    "def parse_trip_file(file):\n",
    "    prepared_data_list = []\n",
    "    with open(file, 'r', encoding=\"utf8\") as f:\n",
    "        data = json.load(f)\n",
    "        \n",
    "    list_of_trips = data['timelineObjects']\n",
    "    print(f\"There is {len(list_of_trips)} trips found in total!\")\n",
    "    \n",
    "    for trip in list_of_trips:\n",
    "        if \"activitySegment\" in trip:\n",
    "            current_trip = {}\n",
    "            trip_a = trip[\"activitySegment\"]\n",
    "            current_trip[\"start_time\"] = trip_a[\"duration\"][\"startTimestamp\"]\n",
    "            current_trip[\"end_time\"] = trip_a[\"duration\"][\"endTimestamp\"]\n",
    "\n",
    "            # start_time_iso = datetime.strptime(current_trip[\"start_time\"], \"%Y-%m-%dT%H:%M:%S.%fZ\")\n",
    "            # end_time_iso = datetime.strptime(current_trip[\"end_time\"], \"%Y-%m-%dT%H:%M:%S.%fZ\") \n",
    "            start_time_iso = parser.parse(current_trip[\"start_time\"])\n",
    "            end_time_iso = parser.parse(current_trip[\"end_time\"])\n",
    "            \n",
    "            current_trip[\"activity_type\"] = trip_a[\"activityType\"]\n",
    "            current_trip[\"duration\"] = (end_time_iso - start_time_iso).total_seconds()\n",
    "            current_trip[\"start_location\"] = [trip_a[\"startLocation\"][\"latitudeE7\"], trip_a[\"startLocation\"][\"longitudeE7\"]]\n",
    "            current_trip[\"end_location\"] = [trip_a[\"endLocation\"][\"latitudeE7\"], trip_a[\"endLocation\"][\"longitudeE7\"]]\n",
    "            # current_trip[\"user_id\"] = user\n",
    "            current_trip[\"distance\"] = trip_a[\"distance\"]\n",
    "\n",
    "            current_trip[\"waypoints_list\"] = []\n",
    "            if \"waypointPath\" in trip_a:\n",
    "                waypoints = trip_a[\"waypointPath\"][\"waypoints\"]\n",
    "                mapping_dict = {\"latE7\": \"latitudeE7\", \"lngE7\": \"longitudeE7\"}\n",
    "\n",
    "                for point in waypoints:\n",
    "                    prep_points = dict((mapping_dict[key], value) for (key, value) in point.items())\n",
    "                    current_trip[\"waypoints_list\"].append(prep_points) \n",
    "            elif \"transitPath\" in trip_a:\n",
    "                current_trip[\"waypoints_list\"] = trip_a[\"transitPath\"][\"transitStops\"]\n",
    "                \n",
    "            prepared_data_list.append(current_trip)\n",
    "            # else: current_trip[\"waypoints_list\"] = None\n",
    "            # print(f\"Type of activity: {current_trip['activity_type']}, Trip duration {current_trip['duration']} seconds\")\n",
    "        else: # \"placeVisit\" in trip:\n",
    "            pass \n",
    "        \n",
    "    return prepared_data_list"
   ]
  },
  {
   "cell_type": "code",
   "execution_count": 3,
   "id": "903412d0",
   "metadata": {},
   "outputs": [
    {
     "name": "stdout",
     "output_type": "stream",
     "text": [
      "Reading file ./data/google_trips/gordan_2023_FEBRUARY.json for user 'gordan' ...\n",
      "There is 372 trips found in total!\n",
      "Reading file ./data/google_trips/gordan_2023_JANUARY.json for user 'gordan' ...\n",
      "There is 368 trips found in total!\n",
      "Reading file ./data/google_trips/max_2023_FEBRUARY.json for user 'max' ...\n",
      "There is 380 trips found in total!\n",
      "Reading file ./data/google_trips/max_2023_JANUARY.json for user 'max' ...\n",
      "There is 443 trips found in total!\n",
      "Reading file ./data/google_trips/max_2023_MARCH.json for user 'max' ...\n",
      "There is 380 trips found in total!\n",
      "Reading file ./data/google_trips/zan_2023_FEBRUARY.json for user 'zan' ...\n",
      "There is 98 trips found in total!\n",
      "Reading file ./data/google_trips/zan_2023_JANUARY.json for user 'zan' ...\n",
      "There is 241 trips found in total!\n"
     ]
    }
   ],
   "source": [
    "data_path = \"./data/google_trips/\"\n",
    "all_trip_files = [file for file in os.listdir(data_path) if not file.startswith(\".\")]\n",
    "\n",
    "combined_month_data = []\n",
    "for file in all_trip_files:\n",
    "    user_name = file.split(\"_\")[0]\n",
    "    full_file_path = f\"{data_path}{file}\" \n",
    "    print(f\"Reading file {full_file_path} for user '{user_name}' ...\")\n",
    "    \n",
    "    ith_file = {user_name: parse_trip_file(full_file_path)}\n",
    "    combined_month_data.append(ith_file)"
   ]
  },
  {
   "cell_type": "code",
   "execution_count": 4,
   "id": "41ded40a",
   "metadata": {},
   "outputs": [
    {
     "name": "stdout",
     "output_type": "stream",
     "text": [
      "In total there are 7 user files with trips\n",
      "Saved to file\n"
     ]
    }
   ],
   "source": [
    "print(f\"In total there are {len(combined_month_data)} user files with trips\")\n",
    "with open(\"./data/prepared_trips/trip_data.json\", 'w') as outfile:\n",
    "    json.dump(combined_month_data, outfile)\n",
    "    \n",
    "print(\"Saved to file\")"
   ]
  },
  {
   "cell_type": "code",
   "execution_count": null,
   "id": "91f7f070",
   "metadata": {},
   "outputs": [],
   "source": []
  },
  {
   "cell_type": "code",
   "execution_count": null,
   "id": "2e7ea752",
   "metadata": {},
   "outputs": [],
   "source": []
  }
 ],
 "metadata": {
  "kernelspec": {
   "display_name": "Python [conda env:root] *",
   "language": "python",
   "name": "conda-root-py"
  },
  "language_info": {
   "codemirror_mode": {
    "name": "ipython",
    "version": 3
   },
   "file_extension": ".py",
   "mimetype": "text/x-python",
   "name": "python",
   "nbconvert_exporter": "python",
   "pygments_lexer": "ipython3",
   "version": "3.9.7"
  }
 },
 "nbformat": 4,
 "nbformat_minor": 5
}
