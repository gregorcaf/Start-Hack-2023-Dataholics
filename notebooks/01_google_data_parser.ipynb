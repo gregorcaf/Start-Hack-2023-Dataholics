{
 "cells": [
  {
   "cell_type": "markdown",
   "id": "49d5f7dc",
   "metadata": {},
   "source": [
    "## Google data preparation"
   ]
  },
  {
   "cell_type": "code",
   "execution_count": null,
   "id": "b79c3d9b",
   "metadata": {},
   "outputs": [],
   "source": [
    "%reload_ext autoreload\n",
    "%autoreload 2\n",
    "\n",
    "import pandas as pd \n",
    "import os\n",
    "import json\n",
    "from datetime import datetime\n",
    "\n",
    "\n",
    "try:\n",
    "    print(run_only_once)\n",
    "except Exception as e:\n",
    "    print(os.getcwd())\n",
    "    os.chdir(\"./../\")\n",
    "    print(os.getcwd())\n",
    "    run_only_once = \"Dir has already been changed\"\n",
    "    \n",
    "data_path = \"./data/zan_maps/\""
   ]
  },
  {
   "cell_type": "code",
   "execution_count": null,
   "id": "9d88a2e5",
   "metadata": {},
   "outputs": [],
   "source": [
    "data_feb = data_path + \"2023_FEBRUARY.json\"\n",
    "# pd.read_json(data_path + \"2023_FEBRUARY.json\")\n",
    "with open(data_feb, 'r', encoding=\"utf8\") as f:\n",
    "    data = json.load(f)\n",
    "\n",
    "# data"
   ]
  },
  {
   "cell_type": "code",
   "execution_count": null,
   "id": "72307154",
   "metadata": {},
   "outputs": [],
   "source": [
    "# main key - timelineObjects\n",
    "list_of_trips = data['timelineObjects']\n",
    "print(f\"There is {len(list_of_trips)} trips found in total!\")\n",
    "\n",
    "for trip in list_of_trips:\n",
    "    if \"activitySegment\" in trip:\n",
    "        # print(trip[\"activitySegment\"])\n",
    "        # print(\"Activity \") \n",
    "        start_time = trip[\"activitySegment\"][\"duration\"][\"startTimestamp\"]\n",
    "        end_time = trip[\"activitySegment\"][\"duration\"][\"endTimestamp\"]\n",
    "        start_time_iso = datetime.strptime(start_time, \"%Y-%m-%dT%H:%M:%S.%fZ\")\n",
    "        end_time_iso = datetime.strptime(end_time, \"%Y-%m-%dT%H:%M:%S.%fZ\") \n",
    "        activity_type = trip[\"activitySegment\"][\"activities\"][0][\"activityType\"]\n",
    "        duration = (end_time_iso - start_time_iso).total_seconds()\n",
    "        \n",
    "        print(f\"Type of activity: {activity_type}, Trip duration {duration} seconds\")\n",
    "        \n",
    "    elif \"placeVisit\" in trip:\n",
    "        # print(trip[\"placeVisit\"])\n",
    "        # print(\"place_visit\")\n",
    "        pass "
   ]
  },
  {
   "cell_type": "code",
   "execution_count": null,
   "id": "903412d0",
   "metadata": {},
   "outputs": [],
   "source": []
  },
  {
   "cell_type": "code",
   "execution_count": null,
   "id": "41ded40a",
   "metadata": {},
   "outputs": [],
   "source": []
  }
 ],
 "metadata": {
  "kernelspec": {
   "display_name": "Python [conda env:root] *",
   "language": "python",
   "name": "conda-root-py"
  },
  "language_info": {
   "codemirror_mode": {
    "name": "ipython",
    "version": 3
   },
   "file_extension": ".py",
   "mimetype": "text/x-python",
   "name": "python",
   "nbconvert_exporter": "python",
   "pygments_lexer": "ipython3",
   "version": "3.9.7"
  }
 },
 "nbformat": 4,
 "nbformat_minor": 5
}
