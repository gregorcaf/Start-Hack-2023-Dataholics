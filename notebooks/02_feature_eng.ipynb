{
 "cells": [
  {
   "cell_type": "markdown",
   "id": "cd179ce6",
   "metadata": {},
   "source": [
    "## Deriving features for the api"
   ]
  },
  {
   "cell_type": "code",
   "execution_count": 1,
   "id": "ae042fc0",
   "metadata": {},
   "outputs": [
    {
     "name": "stdout",
     "output_type": "stream",
     "text": [
      "C:\\Users\\Zan\\Desktop\\start_23\\dataholics\\notebooks\n",
      "C:\\Users\\Zan\\Desktop\\start_23\\dataholics\n"
     ]
    }
   ],
   "source": [
    "%reload_ext autoreload\n",
    "%autoreload 2\n",
    "\n",
    "import pandas as pd \n",
    "import os\n",
    "import json\n",
    "from datetime import datetime\n",
    "from dateutil import parser\n",
    "\n",
    "\n",
    "try:\n",
    "    print(run_only_once)\n",
    "except Exception as e:\n",
    "    print(os.getcwd())\n",
    "    os.chdir(\"./../\")\n",
    "    print(os.getcwd())\n",
    "    run_only_once = \"Dir has already been changed\""
   ]
  },
  {
   "cell_type": "code",
   "execution_count": 2,
   "id": "1a0494f7",
   "metadata": {},
   "outputs": [
    {
     "name": "stdout",
     "output_type": "stream",
     "text": [
      "loaded data\n"
     ]
    }
   ],
   "source": [
    "with open(\"./data/prepared_trips/trip_data.json\", 'r') as f:\n",
    "    data = json.load(f)\n",
    "\n",
    "print(\"loaded data\")\n",
    "# display(data)"
   ]
  },
  {
   "cell_type": "code",
   "execution_count": 3,
   "id": "601c312b",
   "metadata": {},
   "outputs": [],
   "source": [
    "for user_name in data:\n",
    "    for month_data in data[user_name]:\n",
    "        # here we work with a user per month summary \n",
    "        all_end_locations = []\n",
    "        for trip in data[user_name][month_data][\"raw\"]:\n",
    "            # per each trip in a month\n",
    "            all_end_locations.append(trip[\"end_location\"])\n",
    "            \n",
    "        data[user_name][month_data][\"features\"][\"all_end_locations\"] = all_end_locations"
   ]
  },
  {
   "cell_type": "code",
   "execution_count": 4,
   "id": "22d9628f",
   "metadata": {},
   "outputs": [
    {
     "data": {
      "text/plain": [
       "[[481071768, 115985278],\n",
       " [481079920, 116006447],\n",
       " [481423650, 115491783],\n",
       " [481431309, 115478084],\n",
       " [481388722, 115514086]]"
      ]
     },
     "execution_count": 4,
     "metadata": {},
     "output_type": "execute_result"
    }
   ],
   "source": [
    "data[\"gordan\"]['2023_FEBRUARY.json'][\"features\"][\"all_end_locations\"][:5]"
   ]
  },
  {
   "cell_type": "code",
   "execution_count": null,
   "id": "6f865e1e",
   "metadata": {},
   "outputs": [],
   "source": []
  },
  {
   "cell_type": "code",
   "execution_count": null,
   "id": "60d0f9fa",
   "metadata": {},
   "outputs": [],
   "source": []
  }
 ],
 "metadata": {
  "kernelspec": {
   "display_name": "Python [conda env:root] *",
   "language": "python",
   "name": "conda-root-py"
  },
  "language_info": {
   "codemirror_mode": {
    "name": "ipython",
    "version": 3
   },
   "file_extension": ".py",
   "mimetype": "text/x-python",
   "name": "python",
   "nbconvert_exporter": "python",
   "pygments_lexer": "ipython3",
   "version": "3.9.7"
  }
 },
 "nbformat": 4,
 "nbformat_minor": 5
}
